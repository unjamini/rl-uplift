{
  "cells": [
    {
      "cell_type": "markdown",
      "source": [
        "# Data Preparation"
      ],
      "metadata": {
        "id": "1XUlK87PenHL"
      }
    },
    {
      "cell_type": "code",
      "source": [
        "\n",
        "import kagglehub\n",
        "import os\n",
        "import pandas as pd\n",
        "import numpy as np\n",
        "from sklearn.model_selection import train_test_split"
      ],
      "metadata": {
        "id": "leJ3Lo_uCFMj"
      },
      "execution_count": 1,
      "outputs": []
    },
    {
      "cell_type": "code",
      "source": [
        "# Download the dataset from kagglehub\n",
        "path = kagglehub.dataset_download(\"arashnic/uplift-modeling\")\n",
        "print(\"Path to dataset files:\", path)\n",
        "\n",
        "files = os.listdir(path)\n",
        "print(\"Files in dataset:\", files)\n",
        "\n",
        "for file in files:\n",
        "    if file.endswith(\".csv\"):\n",
        "        file_path = os.path.join(path, file)\n",
        "        print(f\"Loading file: {file}\")\n",
        "        data = pd.read_csv(file_path)\n",
        "        break  # get the first csv"
      ],
      "metadata": {
        "colab": {
          "base_uri": "https://localhost:8080/"
        },
        "id": "c46uUQwQNkNB",
        "outputId": "6b8cb815-7b90-41d3-e145-1557fb2f827e"
      },
      "execution_count": 2,
      "outputs": [
        {
          "output_type": "stream",
          "name": "stdout",
          "text": [
            "Warning: Looks like you're using an outdated `kagglehub` version (installed: 0.3.5), please consider upgrading to the latest version (0.3.6).\n",
            "Path to dataset files: /root/.cache/kagglehub/datasets/arashnic/uplift-modeling/versions/1\n",
            "Files in dataset: ['criteo-uplift-v2.1.csv']\n",
            "Loading file: criteo-uplift-v2.1.csv\n"
          ]
        }
      ]
    },
    {
      "cell_type": "code",
      "source": [
        "import pandas as pd\n",
        "import numpy as np\n",
        "from sklearn.model_selection import train_test_split\n",
        "from sklearn.utils import resample\n",
        "\n",
        "class KaggleDataReader:\n",
        "    def __init__(self, path, treatment_col='treatment', conversion_col='conversion', visit_col='visit', exposure_col='exposure', feature_cols=None, test_size=0.2, random_state=42, sample_frac=0.4, balance=False):\n",
        "\n",
        "        self.path = path\n",
        "        self.treatment_col = treatment_col\n",
        "        self.conversion_col = conversion_col\n",
        "        self.visit_col = visit_col\n",
        "        self.exposure_col = exposure_col\n",
        "        self.feature_cols = feature_cols or [f'f{i}' for i in range(12)]\n",
        "        self.test_size = test_size\n",
        "        self.random_state = random_state\n",
        "        self.sample_frac = sample_frac\n",
        "        self.balance = balance\n",
        "\n",
        "        # Load the data\n",
        "        data = pd.read_csv(path)\n",
        "\n",
        "        # sampling - 40%\n",
        "        self.data = data.groupby(self.treatment_col, group_keys=False).apply(\n",
        "            lambda x: x.sample(frac=self.sample_frac, random_state=self.random_state)\n",
        "        )\n",
        "\n",
        "        if self.balance:\n",
        "            self._balance_data()\n",
        "\n",
        "        # Split data into train, validate, and test\n",
        "        self._split_data()\n",
        "\n",
        "    def _balance_data(self):\n",
        "        \"\"\"\n",
        "        Balances the dataset for treatment=0 and treatment=1 by oversampling or undersampling.\n",
        "        \"\"\"\n",
        "        treatment_0 = self.data[self.data[self.treatment_col] == 0]\n",
        "        treatment_1 = self.data[self.data[self.treatment_col] == 1]\n",
        "\n",
        "        if len(treatment_0) < len(treatment_1):\n",
        "            # Oversample treatment=0\n",
        "            treatment_0 = resample(\n",
        "                treatment_0,\n",
        "                replace=True,\n",
        "                n_samples=len(treatment_1),\n",
        "                random_state=self.random_state\n",
        "            )\n",
        "        else:\n",
        "            # Oversample treatment=1\n",
        "            treatment_1 = resample(\n",
        "                treatment_1,\n",
        "                replace=True,\n",
        "                n_samples=len(treatment_0),\n",
        "                random_state=self.random_state\n",
        "            )\n",
        "\n",
        "        # Combine and shuffle\n",
        "        self.data = pd.concat([treatment_0, treatment_1]).sample(frac=1, random_state=self.random_state)\n",
        "\n",
        "    def _split_data(self):\n",
        "        \"\"\"\n",
        "        Splits the dataset into training, validation, and test sets.\n",
        "        \"\"\"\n",
        "        self.features = self.data[self.feature_cols].values\n",
        "        self.actions = self.data[self.treatment_col].values\n",
        "        self.labels = self.data[self.visit_col].values\n",
        "\n",
        "        # (features, action, labels)\n",
        "        self.datas = list(zip(self.features, self.actions, self.labels))\n",
        "\n",
        "        # Train-test split\n",
        "        train_data, test_data = train_test_split(\n",
        "            self.datas, test_size=self.test_size, stratify=[x[1] for x in self.datas], random_state=self.random_state\n",
        "        )\n",
        "\n",
        "        # Further split- training and validation\n",
        "        self.train_data, self.validate_data = train_test_split(\n",
        "            train_data, test_size=0.25, stratify=[x[1] for x in train_data], random_state=self.random_state\n",
        "        )\n",
        "\n",
        "        self.test_data = test_data\n",
        "\n",
        "    def get_data(self):\n",
        "        return {\n",
        "            'train': self.train_data,\n",
        "            'validate': self.validate_data,\n",
        "            'test': self.test_data\n",
        "        }\n",
        "\n",
        "    def print_proportions(self):\n",
        "        def calculate_proportions(data, label=\"\"):\n",
        "            actions = [x[1] for x in data]\n",
        "            unique, counts = np.unique(actions, return_counts=True)\n",
        "            proportions = {int(k): round(v / len(actions), 2) for k, v in zip(unique, counts)}\n",
        "            print(f\"{label} Proportions: {proportions}\")\n",
        "\n",
        "        calculate_proportions(self.train_data, \"Train\")\n",
        "        calculate_proportions(self.validate_data, \"Validate\")\n",
        "        calculate_proportions(self.test_data, \"Test\")\n"
      ],
      "metadata": {
        "id": "OUfJfyajAgz0"
      },
      "execution_count": 3,
      "outputs": []
    },
    {
      "cell_type": "code",
      "source": [
        "kaggle_reader = KaggleDataReader(path=file_path, balance=True)\n",
        "\n",
        "data = kaggle_reader.get_data()\n",
        "\n",
        "print(\"Train Data Shapes:\")\n",
        "print(len(data['train']), len(data['train'][0]))\n",
        "print(\"Validate Data Shapes:\")\n",
        "print(len(data['validate']), len(data['validate'][0]))\n",
        "print(\"Test Data Shapes:\")\n",
        "print(len(data['test']), len(data['test'][0]))\n",
        "\n",
        "# Print proportions\n",
        "kaggle_reader.print_proportions()\n"
      ],
      "metadata": {
        "id": "mWLDOhm7JvB7",
        "colab": {
          "base_uri": "https://localhost:8080/"
        },
        "outputId": "448e1b52-46b0-4ec3-f5d1-7b89d4f2ce6a"
      },
      "execution_count": 4,
      "outputs": [
        {
          "output_type": "stream",
          "name": "stderr",
          "text": [
            "<ipython-input-3-b0ed7850ce35>:24: DeprecationWarning: DataFrameGroupBy.apply operated on the grouping columns. This behavior is deprecated, and in a future version of pandas the grouping columns will be excluded from the operation. Either pass `include_groups=False` to exclude the groupings or explicitly select the grouping columns after groupby to silence this warning.\n",
            "  self.data = data.groupby(self.treatment_col, group_keys=False).apply(\n"
          ]
        },
        {
          "output_type": "stream",
          "name": "stdout",
          "text": [
            "Train Data Shapes:\n",
            "5703674 3\n",
            "Validate Data Shapes:\n",
            "1901225 3\n",
            "Test Data Shapes:\n",
            "1901225 3\n",
            "Train Proportions: {0: 0.5, 1: 0.5}\n",
            "Validate Proportions: {0: 0.5, 1: 0.5}\n",
            "Test Proportions: {0: 0.5, 1: 0.5}\n"
          ]
        }
      ]
    },
    {
      "cell_type": "markdown",
      "source": [
        "# Qini Curves"
      ],
      "metadata": {
        "id": "9sw_Yfn9cv-H"
      }
    },
    {
      "cell_type": "code",
      "source": [
        "import matplotlib.pyplot as plt"
      ],
      "metadata": {
        "id": "9T3V5zpDdN4g"
      },
      "execution_count": 9,
      "outputs": []
    },
    {
      "cell_type": "code",
      "source": [
        "def rec2qini(recs):\n",
        "    '''\n",
        "    recs = [[algo, real, response, prob]]\n",
        "    '''\n",
        "    y_true, d_pred, group = [], [], []\n",
        "    for rec in recs:\n",
        "        # print('rec', rec)\n",
        "        y_true.append(rec[1])\n",
        "        d_pred.append(rec[0])\n",
        "        group.append(rec[2])\n",
        "\n",
        "    return y_true, d_pred, group\n",
        "\n",
        "def data2rec(datas, n_action=2):\n",
        "    recs = []\n",
        "    for data in datas:\n",
        "        algo_action = np.argmax(data[:n_action])\n",
        "        real_action = int(data[-1])\n",
        "        reaction = data[n_action]\n",
        "        recs.append([algo_action, real_action, reaction])\n",
        "    return recs"
      ],
      "metadata": {
        "id": "MynkkpJ8dF34"
      },
      "execution_count": 10,
      "outputs": []
    },
    {
      "cell_type": "code",
      "source": [
        "\n",
        "def number_responses(y_true, group):\n",
        "\n",
        "    responses_target, responses_control, n_target, n_control = 0, 0, 0, 0\n",
        "    for is_target, y in zip(group, y_true):\n",
        "        if is_target:\n",
        "            n_target += 1\n",
        "            responses_target += y\n",
        "        else:\n",
        "            n_control += 1\n",
        "            responses_control += y\n",
        "\n",
        "    rescaled_responses_control = 0 if n_control == 0 else responses_control * \\\n",
        "        n_target / n_control\n",
        "\n",
        "    return responses_target, rescaled_responses_control\n",
        "\n",
        "def null_uplift_curve(y_true, group):\n",
        "\n",
        "    responses_target, rescaled_responses_control = number_responses(\n",
        "        y_true, group)\n",
        "    return [0, len(y_true)], [0, responses_target - rescaled_responses_control]\n",
        "\n",
        "def optimal_uplift_curve(y_true, group, negative_effects=True):\n",
        "\n",
        "    responses_target, rescaled_responses_control = number_responses(\n",
        "        y_true, group)\n",
        "\n",
        "    if negative_effects:\n",
        "        xs = [0, responses_target, len(\n",
        "            y_true) - rescaled_responses_control, len(y_true)]\n",
        "        ys = [0, responses_target, responses_target,\n",
        "              responses_target - rescaled_responses_control]\n",
        "    else:\n",
        "        xs = [0, responses_target - rescaled_responses_control, len(y_true)]\n",
        "        ys = [0, responses_target - rescaled_responses_control,\n",
        "              responses_target - rescaled_responses_control]\n",
        "\n",
        "    return xs, ys"
      ],
      "metadata": {
        "id": "F-lwn0r6d357"
      },
      "execution_count": 12,
      "outputs": []
    },
    {
      "cell_type": "code",
      "source": [
        "\n",
        "def uplift_curve(y_true, d_pred, group, n_nodes=None):\n",
        "    if n_nodes is None:\n",
        "        n_nodes = min(len(y_true) + 1, 200)\n",
        "\n",
        "    sorted_ds = sorted(zip(d_pred, group, y_true), reverse=True)\n",
        "    responses_control, responses_target, n_control, n_target = 0, 0, 0, 0\n",
        "    cumulative_responses = [\n",
        "        (responses_control, responses_target, n_control, n_target)]\n",
        "\n",
        "    # print('sorted_ds', sorted_ds)\n",
        "    for _, is_target, response in sorted_ds:\n",
        "        if is_target:\n",
        "            n_target += 1\n",
        "            responses_target += response\n",
        "        else:\n",
        "            n_control += 1\n",
        "            responses_control += response\n",
        "        cumulative_responses.append(\n",
        "            (responses_control, responses_target, n_control, n_target))\n",
        "\n",
        "    # print('n_nodes', n_nodes)\n",
        "    # print('cumulative_responses')\n",
        "    # for ele in cumulative_responses:\n",
        "    #     print(ele)\n",
        "    xs = [int(i) for i in np.linspace(0, len(y_true), n_nodes)]\n",
        "    ys = [_uplift(*cumulative_responses[x]) for x in xs]\n",
        "\n",
        "    return xs, ys\n",
        "\n",
        "\n",
        "\n",
        "def _uplift(responses_control, responses_target, n_control, n_target):\n",
        "    if n_control == 0:\n",
        "        return responses_target\n",
        "    else:\n",
        "        return responses_target - responses_control * n_target * 1. / n_control"
      ],
      "metadata": {
        "id": "HHFyqUQseO9c"
      },
      "execution_count": 16,
      "outputs": []
    },
    {
      "cell_type": "code",
      "source": [
        "\n",
        "# Qini Curve Plotting Function\n",
        "def plot_qini_curve(y_true, d_pred, group):\n",
        "    # Generate the curves (model, null, and optimal)\n",
        "    xs_model, ys_model = uplift_curve(y_true, d_pred, group)\n",
        "    xs_null, ys_null = null_uplift_curve(y_true, group)\n",
        "    xs_optimal, ys_optimal = optimal_uplift_curve(y_true, group)\n",
        "\n",
        "    # Plot the curves\n",
        "    plt.figure(figsize=(10, 6))\n",
        "    plt.plot(xs_model, ys_model, label=\"Model\", color=\"blue\", linewidth=2)\n",
        "    plt.plot(xs_null, ys_null, label=\"Null Model\", color=\"red\", linestyle=\"--\")\n",
        "    plt.plot(xs_optimal, ys_optimal, label=\"Optimal\", color=\"green\", linestyle=\":\")\n",
        "\n",
        "    # Format the plot\n",
        "    plt.title(\"Qini Curve\", fontsize=16)\n",
        "    plt.xlabel(\"Number of Samples\", fontsize=14)\n",
        "    plt.ylabel(\"Cumulative Uplift\", fontsize=14)\n",
        "    plt.legend(fontsize=12)\n",
        "    plt.grid(alpha=0.3)\n",
        "    plt.show()\n",
        "\n",
        "# Convert data to records\n",
        "datas = np.load('/content/test_max_2025_01_09_21_12_37.npy')\n",
        "\n",
        "recs = data2rec(datas)\n",
        "\n",
        "# # Extract the data for Qini curve\n",
        "y_true, d_pred, group = rec2qini(recs)\n",
        "\n",
        "plot_qini_curve(y_true, d_pred, group)"
      ],
      "metadata": {
        "colab": {
          "base_uri": "https://localhost:8080/",
          "height": 571
        },
        "id": "p4pu28BUcuWB",
        "outputId": "28e3e6b0-6ab1-4509-d2bd-71c496a54e13"
      },
      "execution_count": 17,
      "outputs": [
        {
          "output_type": "display_data",
          "data": {
            "text/plain": [
              "<Figure size 1000x600 with 1 Axes>"
            ],
            "image/png": "[encoded data removed]"
          },
          "metadata": {}
        }
      ]
    },
    {
      "cell_type": "code",
      "source": [],
      "metadata": {
        "id": "-ruxglxhdf4e"
      },
      "execution_count": null,
      "outputs": []
    }
  ],
  "metadata": {
    "colab": {
      "provenance": []
    },
    "kernelspec": {
      "display_name": "Python 3",
      "name": "python3"
    },
    "language_info": {
      "name": "python"
    }
  },
  "nbformat": 4,
  "nbformat_minor": 0
}